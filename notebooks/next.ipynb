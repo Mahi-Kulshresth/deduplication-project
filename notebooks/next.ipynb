{
 "cells": [
  {
   "cell_type": "code",
   "execution_count": 2,
   "id": "383e4117",
   "metadata": {},
   "outputs": [
    {
     "name": "stdout",
     "output_type": "stream",
     "text": [
      "Initial shape: (200000, 5)\n"
     ]
    },
    {
     "data": {
      "text/html": [
       "<div>\n",
       "<style scoped>\n",
       "    .dataframe tbody tr th:only-of-type {\n",
       "        vertical-align: middle;\n",
       "    }\n",
       "\n",
       "    .dataframe tbody tr th {\n",
       "        vertical-align: top;\n",
       "    }\n",
       "\n",
       "    .dataframe thead th {\n",
       "        text-align: right;\n",
       "    }\n",
       "</style>\n",
       "<table border=\"1\" class=\"dataframe\">\n",
       "  <thead>\n",
       "    <tr style=\"text-align: right;\">\n",
       "      <th></th>\n",
       "      <th>user-id</th>\n",
       "      <th>game-title</th>\n",
       "      <th>behavior</th>\n",
       "      <th>value</th>\n",
       "      <th>extra</th>\n",
       "    </tr>\n",
       "  </thead>\n",
       "  <tbody>\n",
       "    <tr>\n",
       "      <th>0</th>\n",
       "      <td>151603712</td>\n",
       "      <td>The Elder Scrolls V Skyrim</td>\n",
       "      <td>purchase</td>\n",
       "      <td>1.0</td>\n",
       "      <td>0</td>\n",
       "    </tr>\n",
       "    <tr>\n",
       "      <th>1</th>\n",
       "      <td>151603712</td>\n",
       "      <td>The Elder Scrolls V Skyrim</td>\n",
       "      <td>play</td>\n",
       "      <td>273.0</td>\n",
       "      <td>0</td>\n",
       "    </tr>\n",
       "    <tr>\n",
       "      <th>2</th>\n",
       "      <td>151603712</td>\n",
       "      <td>Fallout 4</td>\n",
       "      <td>purchase</td>\n",
       "      <td>1.0</td>\n",
       "      <td>0</td>\n",
       "    </tr>\n",
       "    <tr>\n",
       "      <th>3</th>\n",
       "      <td>151603712</td>\n",
       "      <td>Fallout 4</td>\n",
       "      <td>play</td>\n",
       "      <td>87.0</td>\n",
       "      <td>0</td>\n",
       "    </tr>\n",
       "    <tr>\n",
       "      <th>4</th>\n",
       "      <td>151603712</td>\n",
       "      <td>Spore</td>\n",
       "      <td>purchase</td>\n",
       "      <td>1.0</td>\n",
       "      <td>0</td>\n",
       "    </tr>\n",
       "  </tbody>\n",
       "</table>\n",
       "</div>"
      ],
      "text/plain": [
       "     user-id                  game-title  behavior  value  extra\n",
       "0  151603712  The Elder Scrolls V Skyrim  purchase    1.0      0\n",
       "1  151603712  The Elder Scrolls V Skyrim      play  273.0      0\n",
       "2  151603712                   Fallout 4  purchase    1.0      0\n",
       "3  151603712                   Fallout 4      play   87.0      0\n",
       "4  151603712                       Spore  purchase    1.0      0"
      ]
     },
     "execution_count": 2,
     "metadata": {},
     "output_type": "execute_result"
    }
   ],
   "source": [
    "import pandas as pd\n",
    "import re\n",
    "from rapidfuzz import process, fuzz\n",
    "from collections import defaultdict\n",
    "\n",
    "df = pd.read_csv('../data/steam-200k.csv', header=None)\n",
    "df.columns = ['user-id', 'game-title', 'behavior', 'value', 'extra']\n",
    "print(f\"Initial shape: {df.shape}\")\n",
    "df.head()\n"
   ]
  },
  {
   "cell_type": "code",
   "execution_count": 3,
   "id": "f5187949",
   "metadata": {},
   "outputs": [
    {
     "name": "stdout",
     "output_type": "stream",
     "text": [
      "Missing values per column:\n",
      "user-id       0\n",
      "game-title    0\n",
      "behavior      0\n",
      "value         0\n",
      "extra         0\n",
      "dtype: int64\n"
     ]
    }
   ],
   "source": [
    "\n",
    "print(\"Missing values per column:\")\n",
    "print(df.isnull().sum())\n"
   ]
  },
  {
   "cell_type": "code",
   "execution_count": 4,
   "id": "ed176217",
   "metadata": {},
   "outputs": [
    {
     "name": "stdout",
     "output_type": "stream",
     "text": [
      "Unique values in 'extra': [0]\n",
      "Shape after dropping 'extra': (200000, 4)\n"
     ]
    }
   ],
   "source": [
    "\n",
    "print(\"Unique values in 'extra':\", df['extra'].unique())\n",
    "df.drop(columns=['extra'], inplace=True)\n",
    "print(f\"Shape after dropping 'extra': {df.shape}\")\n"
   ]
  },
  {
   "cell_type": "code",
   "execution_count": 5,
   "id": "023d41f0",
   "metadata": {},
   "outputs": [
    {
     "name": "stdout",
     "output_type": "stream",
     "text": [
      "Exact duplicate rows: 707\n",
      "Shape after dropping exact duplicates: (199293, 4)\n"
     ]
    }
   ],
   "source": [
    "exact_dupes = df.duplicated().sum()\n",
    "print(f\"Exact duplicate rows: {exact_dupes}\")\n",
    "\n",
    "df.drop_duplicates(inplace=True)\n",
    "print(f\"Shape after dropping exact duplicates: {df.shape}\")\n"
   ]
  },
  {
   "cell_type": "code",
   "execution_count": 16,
   "id": "8b626aad",
   "metadata": {},
   "outputs": [
    {
     "data": {
      "image/png": "[encoded data removed]",
      "text/plain": [
       "<Figure size 600x400 with 1 Axes>"
      ]
     },
     "metadata": {},
     "output_type": "display_data"
    }
   ],
   "source": [
    "import matplotlib.pyplot as plt\n",
    "import seaborn as sns\n",
    "action_counts = df['behavior'].value_counts()\n",
    "\n",
    "plt.figure(figsize=(6,4))\n",
    "sns.barplot(x=action_counts.index, y=action_counts.values, palette='Set2')\n",
    "\n",
    "plt.title('Action Type Distribution: Purchase vs Play')\n",
    "plt.xlabel('Action Type')\n",
    "plt.ylabel('Count')\n",
    "plt.grid(axis='y', linestyle='--', alpha=0.7)\n",
    "plt.tight_layout()\n",
    "plt.show()"
   ]
  },
  {
   "cell_type": "code",
   "execution_count": 6,
   "id": "c330703d",
   "metadata": {},
   "outputs": [
    {
     "name": "stdout",
     "output_type": "stream",
     "text": [
      "Shape after aggregating play actions: (199281, 4)\n"
     ]
    }
   ],
   "source": [
    "\n",
    "plays = df[df['behavior'] == 'play']\n",
    "purchases = df[df['behavior'] == 'purchase']\n",
    "\n",
    "plays_cleaned = plays.groupby(['user-id', 'game-title'], as_index=False)['value'].sum()\n",
    "\n",
    "final_df = pd.concat([purchases, plays_cleaned], ignore_index=True)\n",
    "\n",
    "final_df.sort_values(by=['user-id', 'game-title'], inplace=True)\n",
    "final_df.reset_index(drop=True, inplace=True)\n",
    "\n",
    "print(f\"Shape after aggregating play actions: {final_df.shape}\")\n"
   ]
  },
  {
   "cell_type": "code",
   "execution_count": 7,
   "id": "2fa33610",
   "metadata": {},
   "outputs": [],
   "source": [
    "def preprocess_title(title):\n",
    "    title = title.lower()\n",
    "    title = re.sub(r'[\\W_]+', ' ', title)\n",
    "    return title.strip()\n",
    "\n",
    "final_df['clean-title'] = final_df['game-title'].apply(preprocess_title)"
   ]
  },
  {
   "cell_type": "code",
   "execution_count": 9,
   "id": "acdbd242",
   "metadata": {},
   "outputs": [],
   "source": [
    "def is_probably_sequel(t1, t2):\n",
    "    pattern = r'\\b([ivx]+|\\d+)\\b'\n",
    "    n1 = re.findall(pattern, t1.lower())\n",
    "    n2 = re.findall(pattern, t2.lower())\n",
    "    return bool(n1 and n2 and n1 != n2)"
   ]
  },
  {
   "cell_type": "code",
   "execution_count": 10,
   "id": "1dee9d14",
   "metadata": {},
   "outputs": [],
   "source": [
    "clean_titles = final_df['clean-title'].unique()\n",
    "cluster_map = {}\n",
    "\n",
    "for title in clean_titles:\n",
    "    if title in cluster_map:\n",
    "        continue\n",
    "    matches = process.extract(title, clean_titles, scorer=fuzz.token_sort_ratio, limit=None)\n",
    "    similar_titles = [m for m, score, _ in matches if score >= 90 and not is_probably_sequel(title, m)]\n",
    "    canonical = max(similar_titles, key=len)\n",
    "    for dup in similar_titles:\n",
    "        cluster_map[dup] = canonical"
   ]
  },
  {
   "cell_type": "code",
   "execution_count": null,
   "id": "408267a8",
   "metadata": {},
   "outputs": [
    {
     "name": "stdout",
     "output_type": "stream",
     "text": [
      " Fuzzy Deduplication Results:\n",
      "Before: 5151\n",
      "After: 5026\n"
     ]
    }
   ],
   "source": [
    "final_df['canonical-title'] = final_df['clean-title'].map(cluster_map)\n",
    "final_df['game-title'] = final_df['canonical-title'].fillna(final_df['clean-title']).str.title()\n",
    "final_df.drop(columns=['clean-title', 'canonical-title'], inplace=True)\n",
    "\n",
    "print(\" Fuzzy Deduplication Results:\")\n",
    "print(\"Before:\", len(clean_titles))\n",
    "print(\"After:\", final_df['game-title'].nunique())"
   ]
  },
  {
   "cell_type": "code",
   "execution_count": 12,
   "id": "593fcb59",
   "metadata": {},
   "outputs": [
    {
     "name": "stdout",
     "output_type": "stream",
     "text": [
      "Remaining fuzzy duplicate title pairs (≥90% similarity): 175\n"
     ]
    }
   ],
   "source": [
    "titles = final_df['game-title'].unique()\n",
    "fuzzy_dupe_count = 0\n",
    "\n",
    "for i in range(len(titles)):\n",
    "    for j in range(i + 1, len(titles)):\n",
    "        if fuzz.token_sort_ratio(titles[i], titles[j]) >= 90:\n",
    "            fuzzy_dupe_count += 1\n",
    "\n",
    "print(f\"Remaining fuzzy duplicate title pairs (≥90% similarity): {fuzzy_dupe_count}\")\n"
   ]
  },
  {
   "cell_type": "code",
   "execution_count": null,
   "id": "d374fc00",
   "metadata": {},
   "outputs": [],
   "source": []
  }
 ],
 "metadata": {
  "kernelspec": {
   "display_name": "base",
   "language": "python",
   "name": "python3"
  },
  "language_info": {
   "codemirror_mode": {
    "name": "ipython",
    "version": 3
   },
   "file_extension": ".py",
   "mimetype": "text/x-python",
   "name": "python",
   "nbconvert_exporter": "python",
   "pygments_lexer": "ipython3",
   "version": "3.11.4"
  }
 },
 "nbformat": 4,
 "nbformat_minor": 5
}
